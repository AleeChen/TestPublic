{
 "cells": [
  {
   "cell_type": "markdown",
   "id": "2636d822-0f59-463d-9de8-b8e955e57f43",
   "metadata": {},
   "source": [
    "# Data Science Tools and Ecosystem"
   ]
  },
  {
   "cell_type": "markdown",
   "id": "a950ebe1-31e8-45f1-9456-5dfa05a94b9d",
   "metadata": {},
   "source": [
    "In this notebook, Data Science Tools and Ecosystem are summarized."
   ]
  },
  {
   "cell_type": "markdown",
   "id": "03644631-f497-4c1b-91dd-7b161670b392",
   "metadata": {},
   "source": [
    "**Objectives:**\n",
    "1. List popular languages for Data Science\n",
    "2. How to use Github\n",
    "3. How to use Jupyter Notebook"
   ]
  },
  {
   "cell_type": "markdown",
   "id": "abde4165-2561-40a6-b924-534f4e3984da",
   "metadata": {},
   "source": [
    "***\n",
    "Some of the popular languages that Data Scientists use are:\n",
    "1. Python\n",
    "2. R\n",
    "3. Java"
   ]
  },
  {
   "cell_type": "markdown",
   "id": "3118513d-f9b8-4a34-9d6e-b48be4880c39",
   "metadata": {},
   "source": [
    "***\n",
    "Some of the commonly used libraries used by Data Scientists include:\n",
    "1. numpy\n",
    "2. pandas\n",
    "3. matplot"
   ]
  },
  {
   "cell_type": "markdown",
   "id": "2a32de0a-8c56-4331-9e3e-316bbc960ecd",
   "metadata": {},
   "source": [
    "| Data Science Tools |\n",
    "| -------------| \n",
    "| Jupyter Notebook |\n",
    "| VScode |\n",
    "| Spark |"
   ]
  },
  {
   "cell_type": "markdown",
   "id": "f421b0ff-6030-418a-96c8-b7841eb036d4",
   "metadata": {},
   "source": [
    "### Below are a few examples of evaluating arithmetic expressions in Python"
   ]
  },
  {
   "cell_type": "code",
   "execution_count": 1,
   "id": "e86bed2f-b362-4729-9a28-2c574d006ea1",
   "metadata": {
    "tags": []
   },
   "outputs": [
    {
     "data": {
      "text/plain": [
       "17"
      ]
     },
     "execution_count": 1,
     "metadata": {},
     "output_type": "execute_result"
    }
   ],
   "source": [
    "#This a simple arithmetic expression to mutiply then add integers\n",
    "(3*4)+5"
   ]
  },
  {
   "cell_type": "code",
   "execution_count": 2,
   "id": "8e6f36e1-ccf6-4625-8cad-d10e0bf93cac",
   "metadata": {
    "tags": []
   },
   "outputs": [
    {
     "data": {
      "text/plain": [
       "3.3333333333333335"
      ]
     },
     "execution_count": 2,
     "metadata": {},
     "output_type": "execute_result"
    }
   ],
   "source": [
    "#This will convert 200 minutes to hours by diving by 60\n",
    "200/60"
   ]
  },
  {
   "cell_type": "markdown",
   "id": "ca603a32-b534-417b-b3ce-512fa394ec04",
   "metadata": {},
   "source": [
    "## Author\n",
    "Myname"
   ]
  },
  {
   "cell_type": "code",
   "execution_count": null,
   "id": "74047335-42cc-4326-8840-4d0c4c675212",
   "metadata": {},
   "outputs": [],
   "source": []
  }
 ],
 "metadata": {
  "kernelspec": {
   "display_name": "Python",
   "language": "python",
   "name": "conda-env-python-py"
  },
  "language_info": {
   "codemirror_mode": {
    "name": "ipython",
    "version": 3
   },
   "file_extension": ".py",
   "mimetype": "text/x-python",
   "name": "python",
   "nbconvert_exporter": "python",
   "pygments_lexer": "ipython3",
   "version": "3.7.12"
  }
 },
 "nbformat": 4,
 "nbformat_minor": 5
}
